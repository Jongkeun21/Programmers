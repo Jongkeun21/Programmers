{
 "cells": [
  {
   "cell_type": "code",
   "execution_count": 1,
   "id": "fbb65a7b",
   "metadata": {},
   "outputs": [],
   "source": [
    "rows = 6\n",
    "columns = 6\n",
    "queries = [[2,2,5,4],[3,3,6,6],[5,1,6,3]]\n",
    "# return [8, 10, 25]"
   ]
  },
  {
   "cell_type": "code",
   "execution_count": 2,
   "id": "5427b4da",
   "metadata": {},
   "outputs": [],
   "source": [
    "rows = 3\n",
    "columns = 3\n",
    "queries = [[1,1,2,2],[1,2,2,3],[2,1,3,2],[2,2,3,3]]\n",
    "# return [1,1,5,3]"
   ]
  },
  {
   "cell_type": "code",
   "execution_count": 2,
   "id": "e036e2a3",
   "metadata": {},
   "outputs": [],
   "source": [
    "table = [[0 for j in range(columns+2)] for i in range(rows+2)]\n",
    "tableDict = {}\n",
    "\n",
    "for i in range(1, rows+1) :\n",
    "    for j in range(1, columns+1) :\n",
    "        table[i][j] = (i-1) * columns + j\n",
    "        tableDict[(i, j)] = (i-1) * columns + j"
   ]
  },
  {
   "cell_type": "code",
   "execution_count": 3,
   "id": "7acf391f",
   "metadata": {},
   "outputs": [
    {
     "data": {
      "text/plain": [
       "[[0, 0, 0, 0, 0, 0, 0, 0],\n",
       " [0, 1, 2, 3, 4, 5, 6, 0],\n",
       " [0, 7, 8, 9, 10, 11, 12, 0],\n",
       " [0, 13, 14, 15, 16, 17, 18, 0],\n",
       " [0, 19, 20, 21, 22, 23, 24, 0],\n",
       " [0, 25, 26, 27, 28, 29, 30, 0],\n",
       " [0, 31, 32, 33, 34, 35, 36, 0],\n",
       " [0, 0, 0, 0, 0, 0, 0, 0]]"
      ]
     },
     "execution_count": 3,
     "metadata": {},
     "output_type": "execute_result"
    }
   ],
   "source": [
    "table"
   ]
  },
  {
   "cell_type": "code",
   "execution_count": 4,
   "id": "f40a5f50",
   "metadata": {},
   "outputs": [
    {
     "data": {
      "text/plain": [
       "{(1, 1): 1,\n",
       " (1, 2): 2,\n",
       " (1, 3): 3,\n",
       " (1, 4): 4,\n",
       " (1, 5): 5,\n",
       " (1, 6): 6,\n",
       " (2, 1): 7,\n",
       " (2, 2): 8,\n",
       " (2, 3): 9,\n",
       " (2, 4): 10,\n",
       " (2, 5): 11,\n",
       " (2, 6): 12,\n",
       " (3, 1): 13,\n",
       " (3, 2): 14,\n",
       " (3, 3): 15,\n",
       " (3, 4): 16,\n",
       " (3, 5): 17,\n",
       " (3, 6): 18,\n",
       " (4, 1): 19,\n",
       " (4, 2): 20,\n",
       " (4, 3): 21,\n",
       " (4, 4): 22,\n",
       " (4, 5): 23,\n",
       " (4, 6): 24,\n",
       " (5, 1): 25,\n",
       " (5, 2): 26,\n",
       " (5, 3): 27,\n",
       " (5, 4): 28,\n",
       " (5, 5): 29,\n",
       " (5, 6): 30,\n",
       " (6, 1): 31,\n",
       " (6, 2): 32,\n",
       " (6, 3): 33,\n",
       " (6, 4): 34,\n",
       " (6, 5): 35,\n",
       " (6, 6): 36}"
      ]
     },
     "execution_count": 4,
     "metadata": {},
     "output_type": "execute_result"
    }
   ],
   "source": [
    "tableDict"
   ]
  },
  {
   "cell_type": "code",
   "execution_count": 5,
   "id": "62d6ca34",
   "metadata": {},
   "outputs": [
    {
     "name": "stdout",
     "output_type": "stream",
     "text": [
      "2 2 5 4\n"
     ]
    }
   ],
   "source": [
    "x1, y1, x2, y2 = queries[0]\n",
    "print(x1, y1, x2, y2)"
   ]
  },
  {
   "cell_type": "code",
   "execution_count": 6,
   "id": "d7f6d39b",
   "metadata": {},
   "outputs": [
    {
     "name": "stdout",
     "output_type": "stream",
     "text": [
      "i: 2, j: 2, tuple: (3, 2)\n",
      "i: 2, j: 3, tuple: (2, 2)\n",
      "i: 2, j: 4, tuple: (2, 3)\n",
      "i: 3, j: 2, tuple: (4, 2)\n",
      "i: 3, j: 4, tuple: (2, 4)\n",
      "i: 4, j: 2, tuple: (5, 2)\n",
      "i: 4, j: 4, tuple: (3, 4)\n",
      "i: 5, j: 2, tuple: (5, 3)\n",
      "i: 5, j: 3, tuple: (5, 4)\n",
      "i: 5, j: 4, tuple: (4, 4)\n"
     ]
    }
   ],
   "source": [
    "for i in range(x1, x2+1) :\n",
    "    for j in range(y1, y2+1) :\n",
    "        if i == x1 :\n",
    "            if j == y1 :\n",
    "                _tuple = (i+1, j)\n",
    "                print(f\"i: {i}, j: {j}, tuple: {_tuple}\")\n",
    "            else :\n",
    "                _tuple = (i, j-1)\n",
    "                print(f\"i: {i}, j: {j}, tuple: {_tuple}\")\n",
    "                \n",
    "        elif i == x2 :\n",
    "            if j == y2 :\n",
    "                _tuple = (i-1, j)\n",
    "                print(f\"i: {i}, j: {j}, tuple: {_tuple}\")\n",
    "            else :\n",
    "                _tuple = (i, j+1)\n",
    "                print(f\"i: {i}, j: {j}, tuple: {_tuple}\")\n",
    "            \n",
    "        else :\n",
    "            if j == y1 :\n",
    "                _tuple = (i+1, j)\n",
    "                print(f\"i: {i}, j: {j}, tuple: {_tuple}\")\n",
    "            elif j == y2 :\n",
    "                _tuple = (i-1,j)\n",
    "                print(f\"i: {i}, j: {j}, tuple: {_tuple}\")\n",
    "                \n",
    "        table[i][j] = tableDict[_tuple]"
   ]
  },
  {
   "cell_type": "code",
   "execution_count": 7,
   "id": "23bca7c5",
   "metadata": {},
   "outputs": [
    {
     "data": {
      "text/plain": [
       "[[0, 0, 0, 0, 0, 0, 0, 0],\n",
       " [0, 1, 2, 3, 4, 5, 6, 0],\n",
       " [0, 7, 14, 8, 9, 11, 12, 0],\n",
       " [0, 13, 20, 20, 10, 17, 18, 0],\n",
       " [0, 19, 26, 26, 16, 23, 24, 0],\n",
       " [0, 25, 27, 28, 22, 29, 30, 0],\n",
       " [0, 31, 32, 33, 34, 35, 36, 0],\n",
       " [0, 0, 0, 0, 0, 0, 0, 0]]"
      ]
     },
     "execution_count": 7,
     "metadata": {},
     "output_type": "execute_result"
    }
   ],
   "source": [
    "table"
   ]
  },
  {
   "cell_type": "code",
   "execution_count": null,
   "id": "bc7b8934",
   "metadata": {},
   "outputs": [],
   "source": []
  },
  {
   "cell_type": "code",
   "execution_count": null,
   "id": "e99748cc",
   "metadata": {},
   "outputs": [],
   "source": []
  },
  {
   "cell_type": "code",
   "execution_count": null,
   "id": "c9b49b8e",
   "metadata": {},
   "outputs": [],
   "source": []
  },
  {
   "cell_type": "code",
   "execution_count": null,
   "id": "9ed11fd1",
   "metadata": {},
   "outputs": [],
   "source": []
  }
 ],
 "metadata": {
  "kernelspec": {
   "display_name": "Python 3 (ipykernel)",
   "language": "python",
   "name": "python3"
  },
  "language_info": {
   "codemirror_mode": {
    "name": "ipython",
    "version": 3
   },
   "file_extension": ".py",
   "mimetype": "text/x-python",
   "name": "python",
   "nbconvert_exporter": "python",
   "pygments_lexer": "ipython3",
   "version": "3.9.7"
  }
 },
 "nbformat": 4,
 "nbformat_minor": 5
}
