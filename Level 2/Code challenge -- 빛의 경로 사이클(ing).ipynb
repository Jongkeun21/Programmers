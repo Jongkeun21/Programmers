{
 "cells": [
  {
   "cell_type": "code",
   "execution_count": 1,
   "id": "bff11fa1",
   "metadata": {},
   "outputs": [],
   "source": [
    "grid = [\"SL\", \"LR\"]\n",
    "# return [16]"
   ]
  },
  {
   "cell_type": "code",
   "execution_count": 2,
   "id": "f526c386",
   "metadata": {},
   "outputs": [],
   "source": [
    "from collections import defaultdict"
   ]
  },
  {
   "cell_type": "code",
   "execution_count": 3,
   "id": "64e72bd6",
   "metadata": {},
   "outputs": [],
   "source": [
    "gridDict = defaultdict(str)\n",
    "gridBoolDict = defaultdict(bool)\n",
    "graph = defaultdict(list)"
   ]
  },
  {
   "cell_type": "code",
   "execution_count": 4,
   "id": "9e929014",
   "metadata": {},
   "outputs": [],
   "source": [
    "for i in range(len(grid)) :\n",
    "    for j in range(len(grid[i])) :\n",
    "        gridDict[(i, j)] = grid[i][j]\n",
    "        gridBoolDict[(i, j)] = True\n",
    "                \n",
    "        if i+1 > len(grid)-1 :\n",
    "            row, col = 0, j\n",
    "        else :\n",
    "            row, col = i+1, j\n",
    "            \n",
    "        graph[(i, j)] += [(row, col)]\n",
    "        \n",
    "        if i-1 < 0 :\n",
    "            row, col = len(grid)-1, j\n",
    "        else :\n",
    "            row, col = i-1, j\n",
    "            \n",
    "        graph[(i, j)] += [(row, col)]\n",
    "        \n",
    "        if j+1 > len(grid[i])-1 :\n",
    "            row, col = i, 0\n",
    "        else :\n",
    "            row, col = i, j+1\n",
    "            \n",
    "        graph[(i, j)] += [(row, col)]\n",
    "        \n",
    "        if j-1 < 0 :\n",
    "            row, col = i, len(grid[i])-1\n",
    "        else :\n",
    "            row, col = i, j-1\n",
    "            \n",
    "        graph[(i, j)] += [(row, col)]"
   ]
  },
  {
   "cell_type": "code",
   "execution_count": 5,
   "id": "08b5c7a3",
   "metadata": {},
   "outputs": [
    {
     "data": {
      "text/plain": [
       "defaultdict(str, {(0, 0): 'S', (0, 1): 'L', (1, 0): 'L', (1, 1): 'R'})"
      ]
     },
     "execution_count": 5,
     "metadata": {},
     "output_type": "execute_result"
    }
   ],
   "source": [
    "gridDict"
   ]
  },
  {
   "cell_type": "code",
   "execution_count": 6,
   "id": "8ddc8480",
   "metadata": {},
   "outputs": [
    {
     "data": {
      "text/plain": [
       "defaultdict(list,\n",
       "            {(0, 0): [(1, 0), (1, 0), (0, 1), (0, 1)],\n",
       "             (0, 1): [(1, 1), (1, 1), (0, 0), (0, 0)],\n",
       "             (1, 0): [(0, 0), (0, 0), (1, 1), (1, 1)],\n",
       "             (1, 1): [(0, 1), (0, 1), (1, 0), (1, 0)]})"
      ]
     },
     "execution_count": 6,
     "metadata": {},
     "output_type": "execute_result"
    }
   ],
   "source": [
    "graph"
   ]
  },
  {
   "cell_type": "code",
   "execution_count": 7,
   "id": "2ad9c750",
   "metadata": {},
   "outputs": [
    {
     "data": {
      "text/plain": [
       "defaultdict(bool, {(0, 0): True, (0, 1): True, (1, 0): True, (1, 1): True})"
      ]
     },
     "execution_count": 7,
     "metadata": {},
     "output_type": "execute_result"
    }
   ],
   "source": [
    "gridBoolDict"
   ]
  },
  {
   "cell_type": "code",
   "execution_count": 8,
   "id": "548e46e9",
   "metadata": {},
   "outputs": [],
   "source": [
    "before = [\"Above\", \"Below\", \"Left\", \"Down\"]"
   ]
  },
  {
   "cell_type": "code",
   "execution_count": null,
   "id": "4a2f43ea",
   "metadata": {},
   "outputs": [],
   "source": []
  },
  {
   "cell_type": "code",
   "execution_count": null,
   "id": "8da33da0",
   "metadata": {},
   "outputs": [],
   "source": []
  },
  {
   "cell_type": "code",
   "execution_count": null,
   "id": "bc7ed33f",
   "metadata": {},
   "outputs": [],
   "source": []
  },
  {
   "cell_type": "code",
   "execution_count": null,
   "id": "dba5d402",
   "metadata": {},
   "outputs": [],
   "source": []
  },
  {
   "cell_type": "code",
   "execution_count": null,
   "id": "694629de",
   "metadata": {},
   "outputs": [],
   "source": [
    "def Go(node, before) :\n",
    "    if node == 'S' :\n",
    "        if before == \"Above\" :\n",
    "            \"go down\"\n",
    "        if before == \"Below\" :\n",
    "            \"go up\"\n",
    "        if before == \"Left\" :\n",
    "            \"go right\"\n",
    "        if befor == \"Right\" :\n",
    "            \"go left\"\n",
    "\n",
    "    if node == \"L\" :\n",
    "        if before == \"Above\" :\n",
    "            \"go right\"\n",
    "        if before == \"Below\" :\n",
    "            \"go left\"\n",
    "        if before == \"Left\" :\n",
    "            \"go up\"\n",
    "        if before == \"Right\" :\n",
    "            \"go down\"\n",
    "\n",
    "    if node == \"R\" :\n",
    "        if before == \"Above\" :\n",
    "            \"go left\"\n",
    "        if before == \"Below\" :\n",
    "            \"go right\"\n",
    "        if before == \"Left\" :\n",
    "            \"go down\"\n",
    "        if before == \"Right\" :\n",
    "            \"go up\""
   ]
  },
  {
   "cell_type": "code",
   "execution_count": 9,
   "id": "8df58416",
   "metadata": {},
   "outputs": [
    {
     "ename": "SyntaxError",
     "evalue": "invalid syntax (Temp/ipykernel_6104/1596230466.py, line 14)",
     "output_type": "error",
     "traceback": [
      "\u001b[1;36m  File \u001b[1;32m\"C:\\Users\\jklee2\\AppData\\Local\\Temp/ipykernel_6104/1596230466.py\"\u001b[1;36m, line \u001b[1;32m14\u001b[0m\n\u001b[1;33m    if before ==\u001b[0m\n\u001b[1;37m                 ^\u001b[0m\n\u001b[1;31mSyntaxError\u001b[0m\u001b[1;31m:\u001b[0m invalid syntax\n"
     ]
    }
   ],
   "source": [
    "def BFS(graph, start, end, gridDict, gridBoolDict, before) :\n",
    "    queue = [(start, [start])]\n",
    "    result = []\n",
    "    \n",
    "    while queue :\n",
    "        node, path = queue.pop(0)\n",
    "        \n",
    "        if node == goal and not False in gridBoolDict.values() :\n",
    "            result.apend(path)\n",
    "        else :\n",
    "            \n",
    "#                     queue.append(())\n",
    "                \n",
    "    return result"
   ]
  },
  {
   "cell_type": "code",
   "execution_count": null,
   "id": "442e04ff",
   "metadata": {},
   "outputs": [],
   "source": []
  },
  {
   "cell_type": "code",
   "execution_count": null,
   "id": "de04c2a1",
   "metadata": {},
   "outputs": [],
   "source": []
  },
  {
   "cell_type": "code",
   "execution_count": null,
   "id": "81853c59",
   "metadata": {},
   "outputs": [],
   "source": []
  },
  {
   "cell_type": "code",
   "execution_count": null,
   "id": "a2861caf",
   "metadata": {},
   "outputs": [],
   "source": []
  },
  {
   "cell_type": "code",
   "execution_count": null,
   "id": "555cd0dc",
   "metadata": {},
   "outputs": [],
   "source": []
  },
  {
   "cell_type": "code",
   "execution_count": null,
   "id": "55e95837",
   "metadata": {},
   "outputs": [],
   "source": []
  },
  {
   "cell_type": "code",
   "execution_count": null,
   "id": "e1f981e7",
   "metadata": {},
   "outputs": [],
   "source": []
  }
 ],
 "metadata": {
  "kernelspec": {
   "display_name": "Python 3 (ipykernel)",
   "language": "python",
   "name": "python3"
  },
  "language_info": {
   "codemirror_mode": {
    "name": "ipython",
    "version": 3
   },
   "file_extension": ".py",
   "mimetype": "text/x-python",
   "name": "python",
   "nbconvert_exporter": "python",
   "pygments_lexer": "ipython3",
   "version": "3.9.7"
  }
 },
 "nbformat": 4,
 "nbformat_minor": 5
}
