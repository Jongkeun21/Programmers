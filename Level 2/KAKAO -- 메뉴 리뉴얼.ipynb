{
 "cells": [
  {
   "cell_type": "markdown",
   "id": "00831368",
   "metadata": {},
   "source": [
    " - 손님들이 주문한 단품 메뉴들이 담긴 배열 orders\n",
    " - 단품 메뉴들의 갯수가 담긴 배열 course"
   ]
  },
  {
   "cell_type": "code",
   "execution_count": 2,
   "id": "6bb2ad44",
   "metadata": {},
   "outputs": [],
   "source": [
    "orders = [\"ABCFG\", \"AC\", \"CDE\", \"ACDE\", \"BCFG\", \"ACDEH\"]\n",
    "course = [2, 3, 4]\n",
    "\n",
    "# return [\"AC\", \"ACDE\", \"BCFG\", \"CDE\"]"
   ]
  },
  {
   "cell_type": "code",
   "execution_count": 1,
   "id": "a266803a",
   "metadata": {},
   "outputs": [],
   "source": [
    "orders = [\"ABCDE\", \"AB\", \"CD\", \"ADE\", \"XYZ\", \"XYZ\", \"ACD\"]\n",
    "course = [2,3,5]\n",
    "\n",
    "# return [\"ACD\", \"AD\", \"ADE\", \"CD\", \"XYZ\"]"
   ]
  },
  {
   "cell_type": "code",
   "execution_count": 1,
   "id": "9d6a20f9",
   "metadata": {},
   "outputs": [],
   "source": [
    "orders = [\"XYZ\", \"XWY\", \"WXA\"]\n",
    "course = [2,3,4]\n",
    "\n",
    "# return [\"WX\", \"XY\"]"
   ]
  },
  {
   "cell_type": "code",
   "execution_count": 1,
   "id": "e1b9714d",
   "metadata": {},
   "outputs": [],
   "source": [
    "from itertools import combinations\n",
    "from collections import defaultdict\n",
    "\n",
    "def tuple2Str(_tuple) :\n",
    "    result = ''\n",
    "    \n",
    "    for char in _tuple :\n",
    "        result += char\n",
    "        \n",
    "    return result\n",
    "\n",
    "def solution(orders, course) :   \n",
    "    answer = []\n",
    "\n",
    "    for num in course :\n",
    "        result = []\n",
    "        cuisine = defaultdict(int)\n",
    "\n",
    "        try :\n",
    "            for order in orders :\n",
    "                order = sorted(list(order))\n",
    "                _list = list(combinations(order, num))\n",
    "\n",
    "                for key in _list :\n",
    "                    cuisine[key] += 1\n",
    "\n",
    "            result = sorted(cuisine.items(), key=lambda x: x[1], reverse=True)\n",
    "            maxs = result[0][1]\n",
    "\n",
    "            for item in result :\n",
    "                if item[1] == maxs and item[1] > 1 :\n",
    "                    answer.append(item[0])\n",
    "                    \n",
    "        except :\n",
    "            pass\n",
    "\n",
    "    return sorted(list(map(tuple2Str, answer)))"
   ]
  }
 ],
 "metadata": {
  "kernelspec": {
   "display_name": "Python 3 (ipykernel)",
   "language": "python",
   "name": "python3"
  },
  "language_info": {
   "codemirror_mode": {
    "name": "ipython",
    "version": 3
   },
   "file_extension": ".py",
   "mimetype": "text/x-python",
   "name": "python",
   "nbconvert_exporter": "python",
   "pygments_lexer": "ipython3",
   "version": "3.9.7"
  }
 },
 "nbformat": 4,
 "nbformat_minor": 5
}
