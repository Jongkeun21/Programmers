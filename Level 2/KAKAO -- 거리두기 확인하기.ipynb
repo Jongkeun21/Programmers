{
 "cells": [
  {
   "cell_type": "markdown",
   "id": "4149103b",
   "metadata": {},
   "source": [
    " - 대기실은 5개, 각 대기실의 크기는 5 X 5\n",
    " - 맨해튼 거리가 2 이하로 앉지 않음\n",
    " - 단 파티션으로 막혀 있는 경우 허용"
   ]
  },
  {
   "cell_type": "code",
   "execution_count": 1,
   "id": "486baece",
   "metadata": {},
   "outputs": [],
   "source": [
    "places = [[\"POOOP\", \"OXXOX\", \"OPXPX\", \"OOXOX\", \"POXXP\"], [\"POOPX\", \"OXPXP\", \"PXXXO\", \"OXXXO\", \"OOOPP\"], [\"PXOPX\", \"OXOXP\", \"OXPOX\", \"OXXOP\", \"PXPOX\"], [\"OOOXX\", \"XOOOX\", \"OOOXX\", \"OXOOX\", \"OOOOO\"], [\"PXPXP\", \"XPXPX\", \"PXPXP\", \"XPXPX\", \"PXPXP\"]]\n",
    "# return [1,0,1,1,1]"
   ]
  },
  {
   "cell_type": "code",
   "execution_count": 2,
   "id": "d2dc2065",
   "metadata": {},
   "outputs": [],
   "source": [
    "def CheckP(i, j, place) :\n",
    "    if i-1 >= 0 and place[i-1][j] == 'P' :\n",
    "        return False\n",
    "    \n",
    "    if i+1 < 5 and place[i+1][j] == 'P' :\n",
    "        return False\n",
    "    \n",
    "    if j-1 >= 0 and place[i][j-1] == 'P' :\n",
    "        return False\n",
    "    \n",
    "    if j+1 < 5 and place[i][j+1] == 'P' :\n",
    "        return False\n",
    "    \n",
    "    return True\n",
    "\n",
    "def CheckO(i, j, place) :\n",
    "    cnt = 0\n",
    "    \n",
    "    if i-1 >= 0 and place[i-1][j] == 'P' :\n",
    "        cnt += 1\n",
    "    \n",
    "    if i+1 < 5 and place[i+1][j] == 'P' :\n",
    "        cnt += 1\n",
    "    \n",
    "    if j-1 >= 0 and place[i][j-1] == 'P' :\n",
    "        cnt +=1 \n",
    "    \n",
    "    if j+1 < 5 and place[i][j+1] == 'P' :\n",
    "        cnt += 1\n",
    "        \n",
    "    if cnt > 1 :\n",
    "        return False\n",
    "    else :\n",
    "        return True\n",
    "\n",
    "def Iter(place) :\n",
    "    checkP = True\n",
    "    checkO = True\n",
    "\n",
    "    for i in range(5) :\n",
    "        for j in range(5) :\n",
    "            ego = place[i][j]\n",
    "\n",
    "            if ego == 'P' :\n",
    "                checkP = CheckP(i, j, place)\n",
    "\n",
    "                if not checkP :\n",
    "                    return 0\n",
    "\n",
    "            if ego == 'O' :\n",
    "                checkO = CheckO(i, j, place)\n",
    "\n",
    "                if not checkO :\n",
    "                    return 0\n",
    "\n",
    "    if checkP and checkO :\n",
    "        return 1\n",
    "\n",
    "def solution(places) :\n",
    "    answer = []\n",
    "    \n",
    "    for place in places :\n",
    "        answer.append(Iter(place))\n",
    "        \n",
    "    return answer"
   ]
  }
 ],
 "metadata": {
  "kernelspec": {
   "display_name": "Python 3 (ipykernel)",
   "language": "python",
   "name": "python3"
  },
  "language_info": {
   "codemirror_mode": {
    "name": "ipython",
    "version": 3
   },
   "file_extension": ".py",
   "mimetype": "text/x-python",
   "name": "python",
   "nbconvert_exporter": "python",
   "pygments_lexer": "ipython3",
   "version": "3.9.7"
  }
 },
 "nbformat": 4,
 "nbformat_minor": 5
}
