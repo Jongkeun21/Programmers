{
 "cells": [
  {
   "cell_type": "markdown",
   "id": "4149103b",
   "metadata": {},
   "source": [
    " - 대기실은 5개, 각 대기실의 크기는 5 X 5\n",
    " - 맨해튼 거리가 2 이하로 앉지 않음\n",
    " - 단 파티션으로 막혀 있는 경우 허용"
   ]
  },
  {
   "cell_type": "code",
   "execution_count": 1,
   "id": "3577f047",
   "metadata": {},
   "outputs": [],
   "source": [
    "places = [[\"POOOP\", \"OXXOX\", \"OPXPX\", \"OOXOX\", \"POXXP\"], [\"POOPX\", \"OXPXP\", \"PXXXO\", \"OXXXO\", \"OOOPP\"], [\"PXOPX\", \"OXOXP\", \"OXPOX\", \"OXXOP\", \"PXPOX\"], [\"OOOXX\", \"XOOOX\", \"OOOXX\", \"OXOOX\", \"OOOOO\"], [\"PXPXP\", \"XPXPX\", \"PXPXP\", \"XPXPX\", \"PXPXP\"]]\n",
    "# return [1,0,1,1,1]"
   ]
  },
  {
   "cell_type": "code",
   "execution_count": 2,
   "id": "aa3ea2d7",
   "metadata": {},
   "outputs": [
    {
     "data": {
      "text/plain": [
       "['POOOP', 'OXXOX', 'OPXPX', 'OOXOX', 'POXXP']"
      ]
     },
     "execution_count": 2,
     "metadata": {},
     "output_type": "execute_result"
    }
   ],
   "source": [
    "places[0]"
   ]
  },
  {
   "cell_type": "code",
   "execution_count": 3,
   "id": "e4841fe7",
   "metadata": {},
   "outputs": [],
   "source": [
    "place = places[0]"
   ]
  },
  {
   "cell_type": "code",
   "execution_count": 4,
   "id": "a15c6be1",
   "metadata": {},
   "outputs": [],
   "source": [
    "def Dist(r1, c1, r2, c2) :\n",
    "    return abs(r1-r2)+abs(c1-c2)"
   ]
  },
  {
   "cell_type": "code",
   "execution_count": 5,
   "id": "b4e2f295",
   "metadata": {},
   "outputs": [],
   "source": [
    "def Check(r1, c1, r2, c2, place)  :\n",
    "    if r1 > r2 and c1 > c2 :\n",
    "        r1, c1, r2, c2 = r2, c2, r1, c1\n",
    "    \n",
    "    for i in range(r1, r2+1) :\n",
    "        for j in range(c1, c2+1) :\n",
    "            if (i != r1 or j != c1) and (i != r2 or j != c2) :\n",
    "                print(f\"r1: {r1}, c1: {c1}, r2: {r2}, c2: {c2}, i: {i}, j: {j}, place: {place[i][j]}\")\n",
    "                if place[i][j] == 'X' :\n",
    "                    return True\n",
    "\n",
    "    return False"
   ]
  },
  {
   "cell_type": "code",
   "execution_count": 11,
   "id": "7fbab5dd",
   "metadata": {},
   "outputs": [
    {
     "name": "stdout",
     "output_type": "stream",
     "text": [
      "=================================================================\n",
      "i: 0, j: 0, ego: P\n",
      "=================================================================\n",
      "---------------------------------------------------------\n",
      "u: 0, v: 4, target: P\n",
      "---------------------------------------------------------\n",
      "---------------------------------------------------------\n",
      "u: 2, v: 1, target: P\n",
      "---------------------------------------------------------\n",
      "---------------------------------------------------------\n",
      "u: 2, v: 3, target: P\n",
      "---------------------------------------------------------\n",
      "---------------------------------------------------------\n",
      "u: 4, v: 0, target: P\n",
      "---------------------------------------------------------\n",
      "---------------------------------------------------------\n",
      "u: 4, v: 4, target: P\n",
      "---------------------------------------------------------\n",
      "=================================================================\n",
      "i: 0, j: 1, ego: O\n",
      "=================================================================\n",
      "=================================================================\n",
      "i: 0, j: 2, ego: O\n",
      "=================================================================\n",
      "=================================================================\n",
      "i: 0, j: 3, ego: O\n",
      "=================================================================\n",
      "=================================================================\n",
      "i: 0, j: 4, ego: P\n",
      "=================================================================\n",
      "---------------------------------------------------------\n",
      "u: 0, v: 0, target: P\n",
      "---------------------------------------------------------\n",
      "---------------------------------------------------------\n",
      "u: 2, v: 1, target: P\n",
      "---------------------------------------------------------\n",
      "---------------------------------------------------------\n",
      "u: 2, v: 3, target: P\n",
      "---------------------------------------------------------\n",
      "---------------------------------------------------------\n",
      "u: 4, v: 0, target: P\n",
      "---------------------------------------------------------\n",
      "---------------------------------------------------------\n",
      "u: 4, v: 4, target: P\n",
      "---------------------------------------------------------\n",
      "=================================================================\n",
      "i: 1, j: 0, ego: O\n",
      "=================================================================\n",
      "=================================================================\n",
      "i: 1, j: 1, ego: X\n",
      "=================================================================\n",
      "=================================================================\n",
      "i: 1, j: 2, ego: X\n",
      "=================================================================\n",
      "=================================================================\n",
      "i: 1, j: 3, ego: O\n",
      "=================================================================\n",
      "=================================================================\n",
      "i: 1, j: 4, ego: X\n",
      "=================================================================\n",
      "=================================================================\n",
      "i: 2, j: 0, ego: O\n",
      "=================================================================\n",
      "=================================================================\n",
      "i: 2, j: 1, ego: P\n",
      "=================================================================\n",
      "---------------------------------------------------------\n",
      "u: 2, v: 3, target: P\n",
      "---------------------------------------------------------\n",
      "---------------------------------------------------------\n",
      "u: 4, v: 0, target: P\n",
      "---------------------------------------------------------\n",
      "---------------------------------------------------------\n",
      "u: 4, v: 4, target: P\n",
      "---------------------------------------------------------\n",
      "=================================================================\n",
      "i: 2, j: 2, ego: X\n",
      "=================================================================\n",
      "=================================================================\n",
      "i: 2, j: 3, ego: P\n",
      "=================================================================\n",
      "---------------------------------------------------------\n",
      "u: 2, v: 1, target: P\n",
      "---------------------------------------------------------\n",
      "---------------------------------------------------------\n",
      "u: 4, v: 0, target: P\n",
      "---------------------------------------------------------\n",
      "---------------------------------------------------------\n",
      "u: 4, v: 4, target: P\n",
      "---------------------------------------------------------\n",
      "=================================================================\n",
      "i: 2, j: 4, ego: X\n",
      "=================================================================\n",
      "=================================================================\n",
      "i: 3, j: 0, ego: O\n",
      "=================================================================\n",
      "=================================================================\n",
      "i: 3, j: 1, ego: O\n",
      "=================================================================\n",
      "=================================================================\n",
      "i: 3, j: 2, ego: X\n",
      "=================================================================\n",
      "=================================================================\n",
      "i: 3, j: 3, ego: O\n",
      "=================================================================\n",
      "=================================================================\n",
      "i: 3, j: 4, ego: X\n",
      "=================================================================\n",
      "=================================================================\n",
      "i: 4, j: 0, ego: P\n",
      "=================================================================\n",
      "---------------------------------------------------------\n",
      "u: 4, v: 4, target: P\n",
      "---------------------------------------------------------\n",
      "=================================================================\n",
      "i: 4, j: 1, ego: O\n",
      "=================================================================\n",
      "=================================================================\n",
      "i: 4, j: 2, ego: X\n",
      "=================================================================\n",
      "=================================================================\n",
      "i: 4, j: 3, ego: X\n",
      "=================================================================\n",
      "=================================================================\n",
      "i: 4, j: 4, ego: P\n",
      "=================================================================\n",
      "---------------------------------------------------------\n",
      "u: 4, v: 0, target: P\n",
      "---------------------------------------------------------\n"
     ]
    }
   ],
   "source": [
    "for i in range(5) :\n",
    "    for j in range(5) :\n",
    "        ego = place[i][j]\n",
    "        print(\"=================================================================\")\n",
    "        print(f\"i: {i}, j: {j}, ego: {ego}\")\n",
    "        print(\"=================================================================\")\n",
    "        \n",
    "        for u in range(i, 5) :\n",
    "            for v in range(5) :\n",
    "                target = place[u][v]\n",
    "                result = True\n",
    "                \n",
    "                if  u != i or v != j :\n",
    "                    dist = Dist(i, j, u, v)\n",
    "                    \n",
    "                    if ego == 'P' and target == 'P' :\n",
    "#                         if dist < 3 :\n",
    "#                             result = Check(i, j, u, v, place)\n",
    "#                             print(f\"ego: ({i}, {j}), // {ego}, target: ({u}, {v}), // {target}, result: {result}\")\n",
    "#                             print(\"=========================================================================\")\n",
    "                    \n",
    "                        print(\"---------------------------------------------------------\")\n",
    "                        print(f\"u: {u}, v: {v}, target: {target}\")\n",
    "                        print(\"---------------------------------------------------------\")"
   ]
  },
  {
   "cell_type": "code",
   "execution_count": null,
   "id": "bb11ec27",
   "metadata": {},
   "outputs": [],
   "source": []
  },
  {
   "cell_type": "code",
   "execution_count": null,
   "id": "899e7f7a",
   "metadata": {},
   "outputs": [],
   "source": []
  },
  {
   "cell_type": "code",
   "execution_count": null,
   "id": "0f3cc23b",
   "metadata": {},
   "outputs": [],
   "source": []
  },
  {
   "cell_type": "code",
   "execution_count": null,
   "id": "b07ff90f",
   "metadata": {},
   "outputs": [],
   "source": []
  },
  {
   "cell_type": "code",
   "execution_count": null,
   "id": "b070233e",
   "metadata": {},
   "outputs": [],
   "source": []
  },
  {
   "cell_type": "code",
   "execution_count": null,
   "id": "304d0796",
   "metadata": {},
   "outputs": [],
   "source": []
  },
  {
   "cell_type": "code",
   "execution_count": null,
   "id": "7a2da0bf",
   "metadata": {},
   "outputs": [],
   "source": []
  },
  {
   "cell_type": "code",
   "execution_count": null,
   "id": "2b2141cd",
   "metadata": {},
   "outputs": [],
   "source": []
  },
  {
   "cell_type": "code",
   "execution_count": null,
   "id": "b71e0d54",
   "metadata": {},
   "outputs": [],
   "source": []
  },
  {
   "cell_type": "code",
   "execution_count": null,
   "id": "2254bfb6",
   "metadata": {},
   "outputs": [],
   "source": []
  },
  {
   "cell_type": "code",
   "execution_count": 6,
   "id": "2698d6f8",
   "metadata": {},
   "outputs": [],
   "source": [
    "import matplotlib.pyplot as plt\n",
    "\n",
    "def Visualization(place) :\n",
    "    board = [[0 for _ in range(5)] for _ in range(5)]\n",
    "\n",
    "    for i in range(len(place)) :\n",
    "        for j in range(len(place[i])) :\n",
    "            if place[i][j] == 'P' :\n",
    "                board[i][j] = 2\n",
    "            elif place[i][j] == 'O' :\n",
    "                board[i][j] = 0\n",
    "            elif place[i][j] == 'X' :\n",
    "                board[i][j] = 1\n",
    "                \n",
    "    return board"
   ]
  },
  {
   "cell_type": "code",
   "execution_count": 8,
   "id": "36f4be81",
   "metadata": {},
   "outputs": [
    {
     "data": {
      "image/png": "[encoded data removed]",
      "text/plain": [
       "<Figure size 432x288 with 1 Axes>"
      ]
     },
     "metadata": {
      "needs_background": "light"
     },
     "output_type": "display_data"
    }
   ],
   "source": [
    "board = Visualization(place)\n",
    "plt.imshow(board)\n",
    "plt.show()"
   ]
  },
  {
   "cell_type": "code",
   "execution_count": null,
   "id": "2249d440",
   "metadata": {},
   "outputs": [],
   "source": []
  },
  {
   "cell_type": "code",
   "execution_count": null,
   "id": "6b20ce20",
   "metadata": {},
   "outputs": [],
   "source": []
  },
  {
   "cell_type": "code",
   "execution_count": null,
   "id": "5db20c0f",
   "metadata": {},
   "outputs": [],
   "source": []
  },
  {
   "cell_type": "code",
   "execution_count": null,
   "id": "7173798f",
   "metadata": {},
   "outputs": [],
   "source": []
  },
  {
   "cell_type": "code",
   "execution_count": null,
   "id": "bf64400a",
   "metadata": {},
   "outputs": [],
   "source": []
  },
  {
   "cell_type": "code",
   "execution_count": null,
   "id": "8f5396f6",
   "metadata": {},
   "outputs": [],
   "source": []
  },
  {
   "cell_type": "code",
   "execution_count": null,
   "id": "55849e5a",
   "metadata": {},
   "outputs": [],
   "source": []
  },
  {
   "cell_type": "code",
   "execution_count": null,
   "id": "38f2d0b4",
   "metadata": {},
   "outputs": [],
   "source": []
  },
  {
   "cell_type": "code",
   "execution_count": null,
   "id": "30848f8f",
   "metadata": {},
   "outputs": [],
   "source": []
  },
  {
   "cell_type": "code",
   "execution_count": null,
   "id": "27761903",
   "metadata": {},
   "outputs": [],
   "source": []
  },
  {
   "cell_type": "code",
   "execution_count": null,
   "id": "46dd7708",
   "metadata": {},
   "outputs": [],
   "source": []
  },
  {
   "cell_type": "code",
   "execution_count": null,
   "id": "3d9ffdb1",
   "metadata": {},
   "outputs": [],
   "source": []
  },
  {
   "cell_type": "code",
   "execution_count": null,
   "id": "7653e1f4",
   "metadata": {},
   "outputs": [],
   "source": []
  },
  {
   "cell_type": "code",
   "execution_count": null,
   "id": "4ba89a8f",
   "metadata": {},
   "outputs": [],
   "source": []
  }
 ],
 "metadata": {
  "kernelspec": {
   "display_name": "Python 3 (ipykernel)",
   "language": "python",
   "name": "python3"
  },
  "language_info": {
   "codemirror_mode": {
    "name": "ipython",
    "version": 3
   },
   "file_extension": ".py",
   "mimetype": "text/x-python",
   "name": "python",
   "nbconvert_exporter": "python",
   "pygments_lexer": "ipython3",
   "version": "3.9.7"
  }
 },
 "nbformat": 4,
 "nbformat_minor": 5
}
