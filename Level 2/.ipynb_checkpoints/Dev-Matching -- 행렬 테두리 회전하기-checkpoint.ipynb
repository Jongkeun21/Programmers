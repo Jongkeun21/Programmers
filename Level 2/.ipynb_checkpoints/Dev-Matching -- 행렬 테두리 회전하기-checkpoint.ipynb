{
 "cells": [
  {
   "cell_type": "code",
   "execution_count": 1,
   "id": "fbb65a7b",
   "metadata": {},
   "outputs": [],
   "source": [
    "rows = 6\n",
    "columns = 6\n",
    "queries = [[2,2,5,4],[3,3,6,6],[5,1,6,3]]\n",
    "# return [8, 10, 25]"
   ]
  },
  {
   "cell_type": "code",
   "execution_count": 7,
   "id": "5427b4da",
   "metadata": {},
   "outputs": [],
   "source": [
    "rows = 3\n",
    "columns = 3\n",
    "queries = [[1,1,2,2],[1,2,2,3],[2,1,3,2],[2,2,3,3]]\n",
    "# return [1,1,5,3]"
   ]
  },
  {
   "cell_type": "code",
   "execution_count": 2,
   "id": "bf828c7c",
   "metadata": {},
   "outputs": [],
   "source": [
    "rows = 100\n",
    "columns = 97\n",
    "queries = [[1,1,100,97]]\n",
    "# return [1]"
   ]
  },
  {
   "cell_type": "code",
   "execution_count": 8,
   "id": "a0c9f099",
   "metadata": {},
   "outputs": [],
   "source": [
    "def rotate(x1, y1, x2, y2, table, myTable) :\n",
    "    _set = set()\n",
    "    \n",
    "    for i in range(x1, x2+1) :\n",
    "        for j in range(y1, y2+1) :\n",
    "            var = table[i][j]\n",
    "            \n",
    "            if i == x1 :    \n",
    "                if j == y1 :\n",
    "                    var = table[i+1][j]\n",
    "                    _set.add(var)\n",
    "                else :\n",
    "                    var = table[i][j-1]\n",
    "                    _set.add(var)\n",
    "\n",
    "            elif i == x2 :\n",
    "                if j != y2 :\n",
    "                    var = table[i][j+1]\n",
    "                    _set.add(var)\n",
    "                else :\n",
    "                    var = table[i-1][j]\n",
    "                    _set.add(var)\n",
    "\n",
    "            else :\n",
    "                if j == y1 :\n",
    "                    var = table[i+1][j]\n",
    "                    _set.add(var)\n",
    "\n",
    "                if j == y2 :\n",
    "                    var = table[i-1][j]\n",
    "                    _set.add(var)\n",
    "            \n",
    "            myTable[i][j] = var\n",
    "                    \n",
    "    return myTable, min(_set)\n",
    "\n",
    "def solution(rows, columns, queries) :\n",
    "    table = [[0 for j in range(columns+1)] for i in range(rows+1)]\n",
    "\n",
    "    for i in range(1, rows+1) :\n",
    "        for j in range(1, columns+1) :\n",
    "            table[i][j] = (i-1) * columns + j\n",
    "            \n",
    "    myTable = [item[:] for item in table]\n",
    "\n",
    "    cnt = 0\n",
    "    answer = []\n",
    "\n",
    "    while cnt < len(queries) :\n",
    "        x1, y1, x2, y2 = queries[cnt]\n",
    "\n",
    "        myTable, mins = rotate(x1, y1, x2, y2, table, myTable)\n",
    "        table = [item[:] for item in myTable]\n",
    "        answer.append(mins)\n",
    "\n",
    "        cnt += 1\n",
    "        \n",
    "    return answer"
   ]
  }
 ],
 "metadata": {
  "kernelspec": {
   "display_name": "Python 3 (ipykernel)",
   "language": "python",
   "name": "python3"
  },
  "language_info": {
   "codemirror_mode": {
    "name": "ipython",
    "version": 3
   },
   "file_extension": ".py",
   "mimetype": "text/x-python",
   "name": "python",
   "nbconvert_exporter": "python",
   "pygments_lexer": "ipython3",
   "version": "3.9.7"
  }
 },
 "nbformat": 4,
 "nbformat_minor": 5
}
