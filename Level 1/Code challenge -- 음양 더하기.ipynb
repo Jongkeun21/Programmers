{
 "cells": [
  {
   "cell_type": "code",
   "execution_count": 1,
   "id": "8659e68a",
   "metadata": {},
   "outputs": [],
   "source": [
    "absolutes = [4,7,12]\n",
    "signs = [True,False,True]\n",
    "\n",
    "# return 9"
   ]
  },
  {
   "cell_type": "code",
   "execution_count": null,
   "id": "042ff1e2",
   "metadata": {},
   "outputs": [],
   "source": [
    "def solution(absolutes, signs) :\n",
    "    answer = 0\n",
    "    \n",
    "    for i in range(len(absolutes)) :\n",
    "        if signs[i] :\n",
    "            answer += absolutes[i]\n",
    "        else :\n",
    "            answer -= absolutes[i]\n",
    "        \n",
    "    return answer"
   ]
  }
 ],
 "metadata": {
  "kernelspec": {
   "display_name": "Python 3 (ipykernel)",
   "language": "python",
   "name": "python3"
  },
  "language_info": {
   "codemirror_mode": {
    "name": "ipython",
    "version": 3
   },
   "file_extension": ".py",
   "mimetype": "text/x-python",
   "name": "python",
   "nbconvert_exporter": "python",
   "pygments_lexer": "ipython3",
   "version": "3.9.7"
  }
 },
 "nbformat": 4,
 "nbformat_minor": 5
}
