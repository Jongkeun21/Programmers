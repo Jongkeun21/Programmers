{
 "cells": [
  {
   "cell_type": "code",
   "execution_count": 30,
   "id": "a193b084",
   "metadata": {},
   "outputs": [],
   "source": [
    "s = \"one4seveneight\"\n",
    "# result 1478\n",
    "\n",
    "# solution(s)"
   ]
  },
  {
   "cell_type": "code",
   "execution_count": 1,
   "id": "725d9eb6",
   "metadata": {},
   "outputs": [],
   "source": [
    "s = \"23four5six7\"\n",
    "# result 234567\n",
    "\n",
    "# solution(s)"
   ]
  },
  {
   "cell_type": "code",
   "execution_count": 22,
   "id": "bcf1d6cf",
   "metadata": {},
   "outputs": [
    {
     "data": {
      "text/plain": [
       "234567"
      ]
     },
     "execution_count": 22,
     "metadata": {},
     "output_type": "execute_result"
    }
   ],
   "source": [
    "s = \"2three45sixseven\"\n",
    "# result 234567\n",
    "\n",
    "solution(s)"
   ]
  },
  {
   "cell_type": "code",
   "execution_count": 23,
   "id": "81279690",
   "metadata": {},
   "outputs": [
    {
     "data": {
      "text/plain": [
       "123"
      ]
     },
     "execution_count": 23,
     "metadata": {},
     "output_type": "execute_result"
    }
   ],
   "source": [
    "s = \"123\"\n",
    "# return 123\n",
    "\n",
    "solution(s)"
   ]
  },
  {
   "cell_type": "code",
   "execution_count": 19,
   "id": "66a71a8e",
   "metadata": {},
   "outputs": [],
   "source": [
    "def solution(s) :\n",
    "    numbers = ['zero', 'one', 'two', 'three', 'four', 'five', 'six', 'seven', 'eight', 'nine']\n",
    "\n",
    "    char2num = {}\n",
    "\n",
    "    for cnt, number in enumerate(numbers) :\n",
    "        char2num[number] = str(cnt)\n",
    "\n",
    "    result = ''\n",
    "    num = ''\n",
    "\n",
    "    for char in s :\n",
    "        if char.isdigit() :\n",
    "            result += char\n",
    "        else :\n",
    "            num += char\n",
    "\n",
    "            try :\n",
    "                if char2num[num] :\n",
    "                    result += char2num[num]\n",
    "                    num = ''\n",
    "            except :\n",
    "                pass\n",
    "            \n",
    "    return int(result)"
   ]
  }
 ],
 "metadata": {
  "kernelspec": {
   "display_name": "Python 3 (ipykernel)",
   "language": "python",
   "name": "python3"
  },
  "language_info": {
   "codemirror_mode": {
    "name": "ipython",
    "version": 3
   },
   "file_extension": ".py",
   "mimetype": "text/x-python",
   "name": "python",
   "nbconvert_exporter": "python",
   "pygments_lexer": "ipython3",
   "version": "3.9.7"
  }
 },
 "nbformat": 4,
 "nbformat_minor": 5
}
