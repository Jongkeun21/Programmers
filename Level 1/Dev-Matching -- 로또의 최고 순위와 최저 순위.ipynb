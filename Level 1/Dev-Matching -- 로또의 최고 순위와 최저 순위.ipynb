{
 "cells": [
  {
   "cell_type": "code",
   "execution_count": 26,
   "id": "102379ec",
   "metadata": {},
   "outputs": [],
   "source": [
    "lottos = [44, 1, 0, 0, 31, 25]\n",
    "win_nums = [31, 10, 45, 1, 6, 19]\n",
    "# return  [3, 5]"
   ]
  },
  {
   "cell_type": "code",
   "execution_count": 31,
   "id": "de857052",
   "metadata": {},
   "outputs": [],
   "source": [
    "lottos = [0, 0, 0, 0, 0, 0]\n",
    "win_nums = [38, 19, 20, 40, 15, 25]\n",
    "# return [1, 6]"
   ]
  },
  {
   "cell_type": "code",
   "execution_count": 33,
   "id": "abca09e2",
   "metadata": {},
   "outputs": [],
   "source": [
    "lottos = [45, 4, 35, 20, 3, 9]\n",
    "win_nums = [20, 9, 3, 45, 4, 35]\n",
    "# return [1, 1]"
   ]
  },
  {
   "cell_type": "code",
   "execution_count": 35,
   "id": "1cc1c67c",
   "metadata": {},
   "outputs": [],
   "source": [
    "lottos = [1, 2, 3, 4, 5, 6]\n",
    "win_nums = [7, 8, 9, 10, 11, 12]\n",
    "# return [1, 1]"
   ]
  },
  {
   "cell_type": "code",
   "execution_count": 36,
   "id": "5953ac1f",
   "metadata": {},
   "outputs": [],
   "source": [
    "from collections import defaultdict\n",
    "\n",
    "def solution(lottos, win_nums) :\n",
    "    dic = defaultdict(bool)\n",
    "    maxs = 0\n",
    "    mins = 0\n",
    "    \n",
    "    for num in win_nums :\n",
    "        dic[num] = True\n",
    "        \n",
    "    for pick in lottos :\n",
    "        if dic[pick] :\n",
    "            mins += 1\n",
    "            \n",
    "        if pick == 0 :\n",
    "            maxs += 1\n",
    "            \n",
    "    maxs = maxs+mins\n",
    "    \n",
    "    if mins < 2 :\n",
    "        mins = 1\n",
    "        \n",
    "    if maxs == 0 :\n",
    "        maxs = 1\n",
    "        \n",
    "    maxs = -maxs+7\n",
    "    mins = -mins+7\n",
    "    \n",
    "    return [maxs, mins]"
   ]
  }
 ],
 "metadata": {
  "kernelspec": {
   "display_name": "Python 3",
   "language": "python",
   "name": "python3"
  },
  "language_info": {
   "codemirror_mode": {
    "name": "ipython",
    "version": 3
   },
   "file_extension": ".py",
   "mimetype": "text/x-python",
   "name": "python",
   "nbconvert_exporter": "python",
   "pygments_lexer": "ipython3",
   "version": "3.8.8"
  }
 },
 "nbformat": 4,
 "nbformat_minor": 5
}
