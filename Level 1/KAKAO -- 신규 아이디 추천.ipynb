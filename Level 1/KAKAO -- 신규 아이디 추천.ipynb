{
 "cells": [
  {
   "cell_type": "markdown",
   "id": "ad9270f4",
   "metadata": {},
   "source": [
    " - 아이디의 길이는 3자 이상 15자 이하\n",
    " - 알파벳 소문자, 숫자, 빼기, 밑줄, 마침표만 사용 가능\n",
    " - 마침표는 처음과 끝에 사용할 수 없으며 연속으로 사용할 수 없음"
   ]
  },
  {
   "cell_type": "markdown",
   "id": "f19bdd45",
   "metadata": {},
   "source": [
    "@ 7단계의 순차적 처리 과정을 통해 규칙을 검사, 맞지 않은 경우 새로운 아이디 추천\n",
    "\n",
    "- 1단계 new_id의 모든 대문자를 대응되는 소문자로 치환합니다.\n",
    "- 2단계 new_id에서 알파벳 소문자, 숫자, 빼기(-), 밑줄(_), 마침표(.)를 제외한 모든 문자를 제거합니다.\n",
    "- 3단계 new_id에서 마침표(.)가 2번 이상 연속된 부분을 하나의 마침표(.)로 치환합니다.\n",
    "- 4단계 new_id에서 마침표(.)가 처음이나 끝에 위치한다면 제거합니다.\n",
    "- 5단계 new_id가 빈 문자열이라면, new_id에 \"a\"를 대입합니다.\n",
    "- 6단계 new_id의 길이가 16자 이상이면, new_id의 첫 15개의 문자를 제외한 나머지 문자들을 모두 제거합니다.\n",
    "     만약 제거 후 마침표(.)가 new_id의 끝에 위치한다면 끝에 위치한 마침표(.) 문자를 제거합니다.\n",
    "- 7단계 new_id의 길이가 2자 이하라면, new_id의 마지막 문자를 new_id의 길이가 3이 될 때까지 반복해서 끝에 붙입니다."
   ]
  },
  {
   "cell_type": "code",
   "execution_count": 1,
   "id": "7718b67a",
   "metadata": {},
   "outputs": [],
   "source": [
    "from collections import defaultdict, deque\n",
    "\n",
    "def First(_id) :\n",
    "    new_id = _id.lower()\n",
    "    return new_id\n",
    "\n",
    "def Second(_id) :\n",
    "    dictSecond = defaultdict(bool)\n",
    "    \n",
    "    new_id = ''\n",
    "    dictSecond['-'] = True\n",
    "    dictSecond['_'] = True\n",
    "    dictSecond['.'] = True\n",
    "    \n",
    "    for char in _id :\n",
    "        if not char.isalpha() :\n",
    "            if char.isdigit() :\n",
    "                new_id += char\n",
    "                \n",
    "            if dictSecond[char] :\n",
    "                new_id += char\n",
    "        else :\n",
    "            new_id += char\n",
    "            \n",
    "    return new_id\n",
    "\n",
    "def Third(_id) :\n",
    "    new_id = ''\n",
    "    dot = ''\n",
    "    \n",
    "    for char in _id :\n",
    "        if char == '.' :\n",
    "            dot = '.'\n",
    "            \n",
    "        else :\n",
    "            new_id += dot + char\n",
    "            dot = ''\n",
    "            \n",
    "    return new_id\n",
    "\n",
    "def Forth(_id) :\n",
    "    deque_ = deque(_id)\n",
    "    \n",
    "    if deque_ :\n",
    "        if deque_[0] == '.' :\n",
    "            deque_.popleft()\n",
    "\n",
    "        if deque_[-1] == '.' :\n",
    "            deque_.pop()\n",
    "\n",
    "        new_id = ''\n",
    "\n",
    "        for char in deque_ :\n",
    "            new_id += char\n",
    "            \n",
    "        return new_id\n",
    "    \n",
    "    return _id\n",
    "\n",
    "def Fifth(_id) :\n",
    "    if not _id :\n",
    "        _id += 'a'\n",
    "        \n",
    "    return _id\n",
    "\n",
    "def Sixth(_id) :\n",
    "    if len(_id) > 15 :\n",
    "        _id = _id[:15]\n",
    "        \n",
    "    if _id[-1] == '.' :\n",
    "        _id = _id[:-1]\n",
    "        \n",
    "    return _id\n",
    "\n",
    "def Seventh(_id) :\n",
    "    while len(_id) < 3 :\n",
    "        _id += _id[-1]\n",
    "        \n",
    "    return _id\n",
    "\n",
    "def solution(new_id):    \n",
    "    first = First(new_id)\n",
    "    second = Second(first)\n",
    "    third = Third(second)\n",
    "    forth = Forth(third)\n",
    "    fifth = Fifth(forth)\n",
    "    sixth = Sixth(fifth)\n",
    "    answer = Seventh(sixth)\n",
    "    \n",
    "    return answer"
   ]
  },
  {
   "cell_type": "code",
   "execution_count": 2,
   "id": "9f844286",
   "metadata": {},
   "outputs": [
    {
     "data": {
      "text/plain": [
       "'bat.y.abcdefghi'"
      ]
     },
     "execution_count": 2,
     "metadata": {},
     "output_type": "execute_result"
    }
   ],
   "source": [
    "new_id = \"...!@BaT#*..y.abcdefghijklm\"\n",
    "# return \"bat.y.abcdefghi\"\n",
    "\n",
    "solution(new_id)"
   ]
  },
  {
   "cell_type": "code",
   "execution_count": 3,
   "id": "db4c1cea",
   "metadata": {},
   "outputs": [
    {
     "data": {
      "text/plain": [
       "'z--'"
      ]
     },
     "execution_count": 3,
     "metadata": {},
     "output_type": "execute_result"
    }
   ],
   "source": [
    "new_id = \"z-+.^.\"\n",
    "# return \"z--\"\n",
    "\n",
    "solution(new_id)"
   ]
  },
  {
   "cell_type": "code",
   "execution_count": 4,
   "id": "3c0ea592",
   "metadata": {},
   "outputs": [
    {
     "data": {
      "text/plain": [
       "'aaa'"
      ]
     },
     "execution_count": 4,
     "metadata": {},
     "output_type": "execute_result"
    }
   ],
   "source": [
    "new_id = \"=.=\"\n",
    "# return \"aaa\"\n",
    "\n",
    "solution(new_id)"
   ]
  },
  {
   "cell_type": "code",
   "execution_count": 5,
   "id": "6abd05d6",
   "metadata": {},
   "outputs": [
    {
     "data": {
      "text/plain": [
       "'123_.def'"
      ]
     },
     "execution_count": 5,
     "metadata": {},
     "output_type": "execute_result"
    }
   ],
   "source": [
    "new_id = \"123_.def\"\n",
    "# return \"123_.def\"\n",
    "\n",
    "solution(new_id)"
   ]
  },
  {
   "cell_type": "code",
   "execution_count": 6,
   "id": "06c4cb10",
   "metadata": {},
   "outputs": [
    {
     "data": {
      "text/plain": [
       "'abcdefghijklmn'"
      ]
     },
     "execution_count": 6,
     "metadata": {},
     "output_type": "execute_result"
    }
   ],
   "source": [
    "new_id = \"abcdefghijklmn.p\"\n",
    "# return \"abcdefghijklmn\"\n",
    "\n",
    "solution(new_id)"
   ]
  }
 ],
 "metadata": {
  "kernelspec": {
   "display_name": "Python 3 (ipykernel)",
   "language": "python",
   "name": "python3"
  },
  "language_info": {
   "codemirror_mode": {
    "name": "ipython",
    "version": 3
   },
   "file_extension": ".py",
   "mimetype": "text/x-python",
   "name": "python",
   "nbconvert_exporter": "python",
   "pygments_lexer": "ipython3",
   "version": "3.9.7"
  }
 },
 "nbformat": 4,
 "nbformat_minor": 5
}
