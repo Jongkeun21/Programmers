{
 "cells": [
  {
   "cell_type": "code",
   "execution_count": 1,
   "id": "33d7a42f",
   "metadata": {},
   "outputs": [],
   "source": [
    "a = [1,2,3,4]\n",
    "b = [-3,-1,0,2]"
   ]
  },
  {
   "cell_type": "code",
   "execution_count": null,
   "id": "6fa89915",
   "metadata": {},
   "outputs": [],
   "source": [
    "def solution(a, b) :\n",
    "    answer = 0\n",
    "\n",
    "    for i in range(len(a)) :\n",
    "        answer += a[i]*b[i]\n",
    "\n",
    "    return answer"
   ]
  }
 ],
 "metadata": {
  "kernelspec": {
   "display_name": "Python 3 (ipykernel)",
   "language": "python",
   "name": "python3"
  },
  "language_info": {
   "codemirror_mode": {
    "name": "ipython",
    "version": 3
   },
   "file_extension": ".py",
   "mimetype": "text/x-python",
   "name": "python",
   "nbconvert_exporter": "python",
   "pygments_lexer": "ipython3",
   "version": "3.9.7"
  }
 },
 "nbformat": 4,
 "nbformat_minor": 5
}
